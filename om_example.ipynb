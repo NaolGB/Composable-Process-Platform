{
 "cells": [
  {
   "cell_type": "code",
   "execution_count": 1,
   "metadata": {},
   "outputs": [],
   "source": [
    "from datetime import datetime\n",
    "import process_graph_db as PGDB\n",
    "import process_engine as PE\n",
    "import process_object as PO"
   ]
  },
  {
   "cell_type": "markdown",
   "metadata": {},
   "source": [
    "##### Define `Source` object types and instances"
   ]
  },
  {
   "cell_type": "code",
   "execution_count": 2,
   "metadata": {},
   "outputs": [],
   "source": [
    "\"\"\"\n",
    "Source objects are assets of the org\n",
    "In case of users \n",
    "    - source objects types are types of emplyees ex: manager, analyst, floor worker\n",
    "    - source object instances are individual employees ex: manager_x, analyst_y, floor worker_z\n",
    "In case of materials\n",
    "    - source object types are types of materials ex: MacBook Air 2020\n",
    "    - source object instances are specific computers ex: MacBook Air 2020 with serial xxx-yyyy-zzz \n",
    "\n",
    "All objects need Source type and instance\n",
    "\"\"\"\n",
    "att_sales_employee_src = [\n",
    "    PO.ObjectAttribute(att_name='username', att_dtype='string', att_required=True),\n",
    "    PO.ObjectAttribute(att_name='usertype', att_dtype='string', att_required=True)\n",
    "]\n",
    "o_sales_employee_src = PO.ProcessObjectType(o_name='sales', o_attributes=att_sales_employee_src)\n",
    "\n",
    "att_material_macbook_src = [\n",
    "    PO.ObjectAttribute(att_name='name', att_dtype='string', att_required=True),\n",
    "    PO.ObjectAttribute(att_name='unit', att_dtype='string', att_required=True),\n",
    "    PO.ObjectAttribute(att_name='available_qty', att_dtype='float', att_required=True),\n",
    "]\n",
    "o_material_macbook_src = PO.ProcessObjectType(o_name='MacBook Air 2020', o_attributes=att_material_macbook_src)"
   ]
  },
  {
   "cell_type": "code",
   "execution_count": 3,
   "metadata": {},
   "outputs": [],
   "source": [
    "o_user_inst_allan = PO.ProcessObjectInstance(o_type=o_sales_employee_src, attributes={'username': 'Allan', 'usertype': 'A', 'sex': 'M'})\n",
    "o_user_inst_betty = PO.ProcessObjectInstance(o_type=o_sales_employee_src, attributes={'username': 'Betty', 'usertype': 'A', 'sex': 'F'})\n",
    "\n",
    "o_material_macbook_src_instance = PO.ProcessObjectInstance(o_type=o_material_macbook_src, attributes={'name': 'MacBook Air 2020', 'unit': 'kg', 'available_qty':100})"
   ]
  },
  {
   "cell_type": "markdown",
   "metadata": {},
   "source": [
    "##### Define `WIP` object types and instances"
   ]
  },
  {
   "cell_type": "code",
   "execution_count": 4,
   "metadata": {},
   "outputs": [],
   "source": [
    "\"\"\"\n",
    "WIP (Work In Progress) objects are assets that are crossing through a process\n",
    "They have a Source object they are adding to or deducting from\n",
    "In case of materials\n",
    "    - wip object type has a reference to Source object instance and other attributes that will affect the Source object instance ex: MacBook Air 2020\n",
    "    - wip object instance has information directly affecting the Source object instance ex: 2 MacBook Air 2020 (reduces 2 from the source instance)\n",
    "\n",
    "Not all objects need WIP type and instance\n",
    "\"\"\"\n",
    "att_material_macbook_wip = [\n",
    "    PO.ObjectAttribute(att_name='src', att_dtype='string', att_required=True),\n",
    "    PO.ObjectAttribute(att_name='requested_qty', att_dtype='float', att_required=True),\n",
    "]\n",
    "att_material_macbook_wip = PO.ProcessObjectType(o_name='MacBook Air 2020', o_attributes=att_material_macbook_wip)"
   ]
  },
  {
   "cell_type": "code",
   "execution_count": 5,
   "metadata": {},
   "outputs": [],
   "source": [
    "o_material_macbook_wip_instance = PO.ProcessObjectInstance(o_type=att_material_macbook_wip, attributes={'src': o_material_macbook_src_instance, 'requested_qty':11.0})"
   ]
  },
  {
   "cell_type": "markdown",
   "metadata": {},
   "source": [
    "##### Define Activities"
   ]
  },
  {
   "cell_type": "code",
   "execution_count": 8,
   "metadata": {},
   "outputs": [],
   "source": [
    "\"\"\"\n",
    "a process activity type provides the required object, owner, and method for the activity\n",
    "a process activity instance takes the action, records the timestamp, and implements the effect\n",
    "\"\"\"\n",
    "# start activity\n",
    "a_start = PE.ProcessActivityType(a_name='start', a_object=None, a_owner=None, a_from=None, operation=None)\n",
    "a_stop = PE.ProcessActivityType(a_name='stop', a_object=None, a_owner=None, a_from=None, operation=None)\n",
    "\n",
    "def check_availability(**quantities):\n",
    "    return quantities['requested_qty'] <= quantities['available_qty']\n",
    "a_check_availability = PE.ProcessActivityType(a_name='Check Availability', a_object=o_material_macbook_wip_instance, a_owner=o_user_inst_allan, a_from=a_start, operation=check_availability)\n",
    "\n",
    "\n",
    "a_check_availability_ins = PE.ProcessActivityInstance(a_type=a_check_availability)\n",
    "a_check_availability_ins.action(\n",
    "    available_qty = a_check_availability.a_object.att['src'].att['available_qty'], \n",
    "    requested_qty = a_check_availability.a_object.att['requested_qty']\n",
    ")\n",
    "\n",
    "\n",
    "\n"
   ]
  },
  {
   "cell_type": "code",
   "execution_count": 20,
   "metadata": {},
   "outputs": [
    {
     "data": {
      "text/plain": [
       "datetime.datetime(2023, 12, 2, 17, 6, 34, 169921)"
      ]
     },
     "execution_count": 20,
     "metadata": {},
     "output_type": "execute_result"
    }
   ],
   "source": [
    "a_check_availability_ins.a_timestamp"
   ]
  }
 ],
 "metadata": {
  "kernelspec": {
   "display_name": "Python 3",
   "language": "python",
   "name": "python3"
  },
  "language_info": {
   "codemirror_mode": {
    "name": "ipython",
    "version": 3
   },
   "file_extension": ".py",
   "mimetype": "text/x-python",
   "name": "python",
   "nbconvert_exporter": "python",
   "pygments_lexer": "ipython3",
   "version": "3.8.16"
  }
 },
 "nbformat": 4,
 "nbformat_minor": 2
}
