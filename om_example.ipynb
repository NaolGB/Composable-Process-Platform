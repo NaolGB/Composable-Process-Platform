{
 "cells": [
  {
   "cell_type": "code",
   "execution_count": 1,
   "metadata": {},
   "outputs": [],
   "source": [
    "import process_engine as PE\n",
    "import process_object as PO"
   ]
  },
  {
   "cell_type": "code",
   "execution_count": 9,
   "metadata": {},
   "outputs": [],
   "source": [
    "# define objects\n",
    "att_user = [\n",
    "    PO.ObjectAttribute(att_name='username', att_dtype='string', att_required=True),\n",
    "    PO.ObjectAttribute(att_name='usertype', att_dtype='string', att_required=True)\n",
    "]\n",
    "o_user = PO.ProcessObjectType(o_name='user', o_attributes=att_user)\n",
    "o_user_instance = PO.ProcessObjectInstance(o_type=o_user, attributes={'username': 'u1', 'usertype': 'A', 'sex': 'W'})\n",
    "\n",
    "att_material = [\n",
    "    PO.ObjectAttribute(att_name='name', att_dtype='string', att_required=True),\n",
    "    PO.ObjectAttribute(att_name='unit', att_dtype='string', att_required=True),\n",
    "    PO.ObjectAttribute(att_name='color', att_dtype='string', att_required=False)\n",
    "]\n",
    "o_material = PO.ProcessObjectType(o_name='material', o_attributes=att_material)\n",
    "o_material_instance = PO.ProcessObjectInstance(o_type=o_material, attributes={'name': 'mat1', 'unit': 'kg'})"
   ]
  },
  {
   "cell_type": "code",
   "execution_count": 11,
   "metadata": {},
   "outputs": [
    {
     "data": {
      "text/plain": [
       "UUID('b55fe982-e8da-4561-ad0f-11bc2bfafa49')"
      ]
     },
     "execution_count": 11,
     "metadata": {},
     "output_type": "execute_result"
    }
   ],
   "source": [
    "o_material_instance.o_id"
   ]
  },
  {
   "cell_type": "code",
   "execution_count": null,
   "metadata": {},
   "outputs": [],
   "source": []
  }
 ],
 "metadata": {
  "kernelspec": {
   "display_name": "Python 3",
   "language": "python",
   "name": "python3"
  },
  "language_info": {
   "codemirror_mode": {
    "name": "ipython",
    "version": 3
   },
   "file_extension": ".py",
   "mimetype": "text/x-python",
   "name": "python",
   "nbconvert_exporter": "python",
   "pygments_lexer": "ipython3",
   "version": "3.8.16"
  }
 },
 "nbformat": 4,
 "nbformat_minor": 2
}
